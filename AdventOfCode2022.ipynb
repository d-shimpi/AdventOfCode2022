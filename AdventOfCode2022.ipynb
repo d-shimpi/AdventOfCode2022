{
 "cells": [
  {
   "cell_type": "markdown",
   "id": "06d836ac",
   "metadata": {},
   "source": [
    "Day 1"
   ]
  },
  {
   "cell_type": "code",
   "execution_count": 2,
   "id": "f4bed5bd",
   "metadata": {},
   "outputs": [],
   "source": [
    "calorieFile = open('adventOfCodeDay1Input1.txt', 'r')\n",
    "calorieLines = calorieFile.readlines()"
   ]
  },
  {
   "cell_type": "code",
   "execution_count": 5,
   "id": "89e44d84",
   "metadata": {},
   "outputs": [],
   "source": [
    "maxCal = 0\n",
    "currentCal = 0\n",
    "elfCals = []\n",
    "for line in calorieLines:\n",
    "    if (line == '\\n'):\n",
    "        elfCals.append(currentCal)\n",
    "        currentCal = 0\n",
    "    else:\n",
    "        cals = int(line[0:-1])\n",
    "        currentCal = currentCal + cals\n",
    "elfCals.sort()"
   ]
  },
  {
   "cell_type": "code",
   "execution_count": 10,
   "id": "0a2cbe1b",
   "metadata": {},
   "outputs": [
    {
     "name": "stdout",
     "output_type": "stream",
     "text": [
      "Max Elf Calories:\n",
      "[67016]\n",
      "Sum of Top 3 Elf Calories:\n",
      "200116\n"
     ]
    }
   ],
   "source": [
    "print(\"Max Elf Calories:\")\n",
    "print(elfCals[-1:])\n",
    "print(\"Sum of Top 3 Elf Calories:\")\n",
    "print(sum(elfCals[-3:]))"
   ]
  },
  {
   "cell_type": "markdown",
   "id": "13c13a0a",
   "metadata": {},
   "source": [
    "Day 2"
   ]
  },
  {
   "cell_type": "code",
   "execution_count": 2,
   "id": "66bc7c0c",
   "metadata": {},
   "outputs": [],
   "source": [
    "rps = open('day2ch1.txt', 'r')\n",
    "rpsLines = rps.readlines()"
   ]
  },
  {
   "cell_type": "code",
   "execution_count": 16,
   "id": "a84ed6a8",
   "metadata": {},
   "outputs": [],
   "source": [
    "# loop through each match and add up the points\n",
    "totalPoints = 0\n",
    "for match in rpsLines:\n",
    "    # Isolate your hand and your opponents\n",
    "    oppHand = match[0]\n",
    "    yourHand = match[2]\n",
    "    # Get points for whatever you played\n",
    "    basePoints = ord(yourHand) - ord('W')\n",
    "    # Get points for winning or tying\n",
    "    # Handle wins\n",
    "    diffHand = ord(yourHand) - ord(oppHand)\n",
    "    if (diffHand == 24 or diffHand == 21):\n",
    "        addPoints = 6\n",
    "    # Handle ties\n",
    "    elif (diffHand == 23):\n",
    "        addPoints = 3\n",
    "    # Handle loss\n",
    "    else:\n",
    "        addPoints = 0\n",
    "    totalPoints = totalPoints + basePoints + addPoints"
   ]
  },
  {
   "cell_type": "code",
   "execution_count": 17,
   "id": "d5a301a3",
   "metadata": {},
   "outputs": [
    {
     "data": {
      "text/plain": [
       "15337"
      ]
     },
     "execution_count": 17,
     "metadata": {},
     "output_type": "execute_result"
    }
   ],
   "source": [
    "print(\"Total points: \")\n",
    "print(totalPoints)"
   ]
  },
  {
   "cell_type": "markdown",
   "id": "954139e8",
   "metadata": {},
   "source": [
    "Day 2 Part 2"
   ]
  },
  {
   "cell_type": "code",
   "execution_count": 18,
   "id": "75700157",
   "metadata": {},
   "outputs": [],
   "source": [
    "# loop through each match and add up the points\n",
    "totalPoints = 0\n",
    "lossHandPoints = [3,1,2]\n",
    "winHandPoints = [2,3,1]\n",
    "\n",
    "for match in rpsLines:\n",
    "    # Isolate your hand and your opponents\n",
    "    oppHand = match[0]\n",
    "    winCon = match[2]\n",
    "    # Get points for winning, tying, or lossing\n",
    "    winPoints = (ord(winCon) - ord('X'))*3\n",
    "    # Get points based on your hand\n",
    "    # Handle loss\n",
    "    if (winPoints == 0):\n",
    "        handPoints = lossHandPoints[ord(oppHand)-ord('A')]\n",
    "    # Handle tie\n",
    "    elif (winPoints == 3):\n",
    "        handPoints = ord(oppHand) - ord('A') + 1\n",
    "    # Handle win\n",
    "    else:\n",
    "        handPoints = winHandPoints[ord(oppHand) - ord('A')]\n",
    "    \n",
    "    totalPoints = totalPoints + winPoints + handPoints\n",
    "    "
   ]
  },
  {
   "cell_type": "code",
   "execution_count": 19,
   "id": "cebf30b8",
   "metadata": {},
   "outputs": [
    {
     "name": "stdout",
     "output_type": "stream",
     "text": [
      "Total points: \n",
      "11696\n"
     ]
    }
   ],
   "source": [
    "print(\"Total points: \")\n",
    "print(totalPoints)"
   ]
  }
 ],
 "metadata": {
  "kernelspec": {
   "display_name": "Python 3 (ipykernel)",
   "language": "python",
   "name": "python3"
  },
  "language_info": {
   "codemirror_mode": {
    "name": "ipython",
    "version": 3
   },
   "file_extension": ".py",
   "mimetype": "text/x-python",
   "name": "python",
   "nbconvert_exporter": "python",
   "pygments_lexer": "ipython3",
   "version": "3.9.12"
  }
 },
 "nbformat": 4,
 "nbformat_minor": 5
}
