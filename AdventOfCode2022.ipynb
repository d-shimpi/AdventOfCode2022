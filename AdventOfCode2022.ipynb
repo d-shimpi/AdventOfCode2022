{
 "cells": [
  {
   "cell_type": "markdown",
   "id": "06d836ac",
   "metadata": {},
   "source": [
    "Day 1"
   ]
  },
  {
   "cell_type": "code",
   "execution_count": 14,
   "id": "f4bed5bd",
   "metadata": {},
   "outputs": [],
   "source": [
    "calorieFile = open('adventOfCodeDay1Input1.txt', 'r')\n",
    "calorieLines = calorieFile.readlines()"
   ]
  },
  {
   "cell_type": "code",
   "execution_count": 15,
   "id": "89e44d84",
   "metadata": {},
   "outputs": [],
   "source": [
    "maxCal = 0\n",
    "currentCal = 0\n",
    "elfCals = []\n",
    "for line in calorieLines:\n",
    "    if (line == '\\n'):\n",
    "        elfCals.append(currentCal)\n",
    "        currentCal = 0\n",
    "    else:\n",
    "        cals = int(line[0:-1])\n",
    "        currentCal = currentCal + cals\n",
    "elfCals.sort()"
   ]
  },
  {
   "cell_type": "code",
   "execution_count": 16,
   "id": "0a2cbe1b",
   "metadata": {},
   "outputs": [
    {
     "name": "stdout",
     "output_type": "stream",
     "text": [
      "Max Elf Calories:\n",
      "[67016]\n",
      "Sum of Top 3 Elf Calories:\n",
      "200116\n"
     ]
    }
   ],
   "source": [
    "print(\"Max Elf Calories:\")\n",
    "print(elfCals[-1:])\n",
    "print(\"Sum of Top 3 Elf Calories:\")\n",
    "print(sum(elfCals[-3:]))"
   ]
  },
  {
   "cell_type": "markdown",
   "id": "13c13a0a",
   "metadata": {},
   "source": [
    "Day 2"
   ]
  },
  {
   "cell_type": "code",
   "execution_count": 17,
   "id": "66bc7c0c",
   "metadata": {},
   "outputs": [],
   "source": [
    "rps = open('day2ch1.txt', 'r')\n",
    "rpsLines = rps.readlines()"
   ]
  },
  {
   "cell_type": "code",
   "execution_count": 18,
   "id": "a84ed6a8",
   "metadata": {},
   "outputs": [],
   "source": [
    "# loop through each match and add up the points\n",
    "totalPoints = 0\n",
    "for match in rpsLines:\n",
    "    # Isolate your hand and your opponents\n",
    "    oppHand = match[0]\n",
    "    yourHand = match[2]\n",
    "    # Get points for whatever you played\n",
    "    basePoints = ord(yourHand) - ord('W')\n",
    "    # Get points for winning or tying\n",
    "    # Handle wins\n",
    "    diffHand = ord(yourHand) - ord(oppHand)\n",
    "    if (diffHand == 24 or diffHand == 21):\n",
    "        addPoints = 6\n",
    "    # Handle ties\n",
    "    elif (diffHand == 23):\n",
    "        addPoints = 3\n",
    "    # Handle loss\n",
    "    else:\n",
    "        addPoints = 0\n",
    "    totalPoints = totalPoints + basePoints + addPoints"
   ]
  },
  {
   "cell_type": "code",
   "execution_count": 19,
   "id": "d5a301a3",
   "metadata": {},
   "outputs": [
    {
     "name": "stdout",
     "output_type": "stream",
     "text": [
      "Total points: \n",
      "15337\n"
     ]
    }
   ],
   "source": [
    "print(\"Total points: \")\n",
    "print(totalPoints)"
   ]
  },
  {
   "cell_type": "markdown",
   "id": "954139e8",
   "metadata": {},
   "source": [
    "Day 2 Part 2"
   ]
  },
  {
   "cell_type": "code",
   "execution_count": 20,
   "id": "75700157",
   "metadata": {},
   "outputs": [],
   "source": [
    "# loop through each match and add up the points\n",
    "totalPoints = 0\n",
    "lossHandPoints = [3,1,2]\n",
    "winHandPoints = [2,3,1]\n",
    "\n",
    "for match in rpsLines:\n",
    "    # Isolate your hand and your opponents\n",
    "    oppHand = match[0]\n",
    "    winCon = match[2]\n",
    "    # Get points for winning, tying, or lossing\n",
    "    winPoints = (ord(winCon) - ord('X'))*3\n",
    "    # Get points based on your hand\n",
    "    # Handle loss\n",
    "    if (winPoints == 0):\n",
    "        handPoints = lossHandPoints[ord(oppHand)-ord('A')]\n",
    "    # Handle tie\n",
    "    elif (winPoints == 3):\n",
    "        handPoints = ord(oppHand) - ord('A') + 1\n",
    "    # Handle win\n",
    "    else:\n",
    "        handPoints = winHandPoints[ord(oppHand) - ord('A')]\n",
    "    \n",
    "    totalPoints = totalPoints + winPoints + handPoints\n",
    "    "
   ]
  },
  {
   "cell_type": "code",
   "execution_count": 21,
   "id": "cebf30b8",
   "metadata": {},
   "outputs": [
    {
     "name": "stdout",
     "output_type": "stream",
     "text": [
      "Total points: \n",
      "11696\n"
     ]
    }
   ],
   "source": [
    "print(\"Total points: \")\n",
    "print(totalPoints)"
   ]
  },
  {
   "cell_type": "markdown",
   "id": "74176c87",
   "metadata": {},
   "source": [
    "Day 3"
   ]
  },
  {
   "cell_type": "code",
   "execution_count": 22,
   "id": "54778625",
   "metadata": {},
   "outputs": [],
   "source": [
    "sacks = open('day3ch1.txt', 'r')\n",
    "sackLines = sacks.readlines()"
   ]
  },
  {
   "cell_type": "code",
   "execution_count": 23,
   "id": "9998c118",
   "metadata": {},
   "outputs": [
    {
     "name": "stdout",
     "output_type": "stream",
     "text": [
      "The Sum of the Priorities is:\n",
      "7793\n"
     ]
    }
   ],
   "source": [
    "runningPrioSum = 0\n",
    "for sack in sackLines:\n",
    "    sack = sack[0:-1] #Get rid of new line character\n",
    "    comp1 = set(sack[0:int(len(sack)/2)])\n",
    "    comp2 = set(sack[int(len(sack)/2):])\n",
    "    commonPrio = str(comp1.intersection(comp2))[2]\n",
    "    if (ord(commonPrio) < 97):\n",
    "        runningPrioSum = runningPrioSum + ord(commonPrio) - 38\n",
    "    else:\n",
    "        runningPrioSum = runningPrioSum + ord(commonPrio) - 96\n",
    "print(\"The Sum of the Priorities is:\")\n",
    "print(runningPrioSum)"
   ]
  },
  {
   "cell_type": "code",
   "execution_count": 24,
   "id": "922bc8fe",
   "metadata": {},
   "outputs": [],
   "source": [
    "def chunks(lst, n):\n",
    "    \"\"\"Yield successive n-sized chunks from lst.\"\"\"\n",
    "    for i in range(0, len(lst), n):\n",
    "        yield lst[i:i + n]"
   ]
  },
  {
   "cell_type": "code",
   "execution_count": 25,
   "id": "8c3bfd53",
   "metadata": {},
   "outputs": [],
   "source": [
    "elfGroupSacks = chunks(sackLines,3)"
   ]
  },
  {
   "cell_type": "code",
   "execution_count": 26,
   "id": "7a09eb27",
   "metadata": {},
   "outputs": [
    {
     "name": "stdout",
     "output_type": "stream",
     "text": [
      "The Sum of the Priorities is:\n",
      "2499\n"
     ]
    }
   ],
   "source": [
    "runningPrioSum = 0\n",
    "for group in elfGroupSacks:\n",
    "    sack1 = set(group[0][:-1])\n",
    "    sack2 = set(group[1][:-1])\n",
    "    sack3 = set(group[2][:-1])\n",
    "    groupPrio = str(sack1.intersection(sack2.intersection(sack3)))[2]\n",
    "    if (ord(groupPrio) < 97):\n",
    "        runningPrioSum = runningPrioSum + ord(groupPrio) - 38\n",
    "    else:\n",
    "        runningPrioSum = runningPrioSum + ord(groupPrio) - 96\n",
    "print(\"The Sum of the Priorities is:\")\n",
    "print(runningPrioSum)\n"
   ]
  },
  {
   "cell_type": "markdown",
   "id": "51d08227",
   "metadata": {},
   "source": [
    "Day 4"
   ]
  },
  {
   "cell_type": "code",
   "execution_count": 27,
   "id": "5386422e",
   "metadata": {},
   "outputs": [],
   "source": [
    "tasks = open('day4ch1.txt', 'r')\n",
    "taskLines = tasks.readlines()"
   ]
  },
  {
   "cell_type": "code",
   "execution_count": 28,
   "id": "4c440fd4",
   "metadata": {},
   "outputs": [
    {
     "name": "stdout",
     "output_type": "stream",
     "text": [
      "Assignments where one range fully contains the other:\n",
      "580\n"
     ]
    }
   ],
   "source": [
    "containedAssigns = 0\n",
    "for line in taskLines:\n",
    "    line = line[:-1] #Get rid of new line character\n",
    "    assignments = line.split(',')\n",
    "    assignment1 = assignments[0]\n",
    "    assignment2 = assignments[1]\n",
    "    range1 = assignment1.split('-')\n",
    "    range2 = assignment2.split('-')\n",
    "    set1 = set(range(int(range1[0]),int(range1[1])+1))\n",
    "    set2 = set(range(int(range2[0]),int(range2[1])+1))\n",
    "    intersec = set1.intersection(set2)\n",
    "    if (len(intersec) == len(set1) or len(intersec) == len(set2)):\n",
    "        containedAssigns = containedAssigns + 1\n",
    "print(\"Assignments where one range fully contains the other:\")\n",
    "print(containedAssigns)"
   ]
  },
  {
   "cell_type": "code",
   "execution_count": 29,
   "id": "682dbd99",
   "metadata": {},
   "outputs": [
    {
     "name": "stdout",
     "output_type": "stream",
     "text": [
      "Assignments where one range overlaps the other:\n",
      "895\n"
     ]
    }
   ],
   "source": [
    "overlapAssigns = 0\n",
    "for line in taskLines:\n",
    "    line = line[:-1] #Get rid of new line character\n",
    "    assignments = line.split(',')\n",
    "    assignment1 = assignments[0]\n",
    "    assignment2 = assignments[1]\n",
    "    range1 = assignment1.split('-')\n",
    "    range2 = assignment2.split('-')\n",
    "    set1 = set(range(int(range1[0]),int(range1[1])+1))\n",
    "    set2 = set(range(int(range2[0]),int(range2[1])+1))\n",
    "    intersec = set1.intersection(set2)\n",
    "    if (len(intersec) > 0):\n",
    "        overlapAssigns = overlapAssigns + 1\n",
    "print(\"Assignments where one range overlaps the other:\")\n",
    "print(overlapAssigns)"
   ]
  },
  {
   "cell_type": "markdown",
   "id": "d08ee3ed",
   "metadata": {},
   "source": [
    "Day 5"
   ]
  },
  {
   "cell_type": "code",
   "execution_count": 30,
   "id": "b00ef305",
   "metadata": {},
   "outputs": [],
   "source": [
    "day5txt = open('day5.txt', 'r')\n",
    "crateLines = day5txt.readlines()"
   ]
  },
  {
   "cell_type": "code",
   "execution_count": 31,
   "id": "ead447e1",
   "metadata": {},
   "outputs": [
    {
     "name": "stdout",
     "output_type": "stream",
     "text": [
      "[['D', 'T', 'W', 'F', 'J', 'S', 'H', 'N'], ['H', 'R', 'P', 'Q', 'T', 'N', 'B', 'G'], ['L', 'Q', 'V'], ['N', 'B', 'S', 'W', 'R', 'Q'], ['N', 'D', 'F', 'T', 'V', 'M', 'B'], ['M', 'D', 'B', 'V', 'H', 'T', 'R'], ['D', 'B', 'Q', 'J'], ['D', 'N', 'J', 'V', 'R', 'Z', 'H', 'Q'], ['B', 'N', 'H', 'M', 'S']]\n"
     ]
    }
   ],
   "source": [
    "crates = crateLines[0:8]\n",
    "#Initialize stacks\n",
    "crateStacks = [[],[],[],[],[],[],[],[],[]]\n",
    "\n",
    "for line in reversed(crates):\n",
    "    line = line[:-1] #Get rid of new line\n",
    "    for i in range(0,9):\n",
    "        char = line[i*4+1]\n",
    "        if (char != ' '):\n",
    "            crateStacks[i].append(line[i*4+1])\n",
    "print(crateStacks)"
   ]
  },
  {
   "cell_type": "code",
   "execution_count": 32,
   "id": "14edecf0",
   "metadata": {},
   "outputs": [],
   "source": [
    "movements = crateLines[10:]"
   ]
  },
  {
   "cell_type": "code",
   "execution_count": 33,
   "id": "01f44399",
   "metadata": {},
   "outputs": [],
   "source": [
    "for step in movements:\n",
    "    step = step[:-1]\n",
    "    comps = step.split(' ')\n",
    "    numToMove = int(comps[1])\n",
    "    giver = int(comps[3])\n",
    "    receiver = int(comps[5])\n",
    "    for i in range(0, numToMove):\n",
    "        crateMoved = crateStacks[giver-1].pop()\n",
    "        crateStacks[receiver-1].append(crateMoved)"
   ]
  },
  {
   "cell_type": "code",
   "execution_count": 34,
   "id": "8320ebce",
   "metadata": {},
   "outputs": [
    {
     "name": "stdout",
     "output_type": "stream",
     "text": [
      "Crates on top:\n",
      "GRTSWNJHH"
     ]
    }
   ],
   "source": [
    "print(\"Crates on top:\")\n",
    "for crateStack in crateStacks:\n",
    "    print(crateStack[-1],end = \"\")"
   ]
  },
  {
   "cell_type": "code",
   "execution_count": 35,
   "id": "a7c966b7",
   "metadata": {},
   "outputs": [],
   "source": [
    "crates = crateLines[0:8]\n",
    "#Initialize stacks\n",
    "initialCrateStacks = [[],[],[],[],[],[],[],[],[]]\n",
    "\n",
    "for line in reversed(crates):\n",
    "    line = line[:-1] #Get rid of new line\n",
    "    for i in range(0,9):\n",
    "        char = line[i*4+1]\n",
    "        if (char != ' '):\n",
    "            initialCrateStacks[i].append(line[i*4+1])"
   ]
  },
  {
   "cell_type": "code",
   "execution_count": 36,
   "id": "a96dbc32",
   "metadata": {},
   "outputs": [],
   "source": [
    "for step in movements:\n",
    "    step = step[:-1]\n",
    "    comps = step.split(' ')\n",
    "    numToMove = int(comps[1])\n",
    "    giver = int(comps[3])\n",
    "    receiver = int(comps[5])\n",
    "    movingCrates = crateStacks[giver-1][-numToMove:]\n",
    "    crateStacks[receiver-1].extend(crateStacks[giver-1][-numToMove:])\n",
    "    crateStacks[giver-1] = crateStacks[giver-1][:-numToMove]"
   ]
  },
  {
   "cell_type": "code",
   "execution_count": 37,
   "id": "9c5ec27e",
   "metadata": {},
   "outputs": [
    {
     "name": "stdout",
     "output_type": "stream",
     "text": [
      "Crates on top:\n",
      "VTNRGBTRM"
     ]
    }
   ],
   "source": [
    "print(\"Crates on top:\")\n",
    "for crateStack in crateStacks:\n",
    "    print(crateStack[-1],end = \"\")"
   ]
  },
  {
   "cell_type": "markdown",
   "id": "24af270f",
   "metadata": {},
   "source": [
    "Day 6"
   ]
  },
  {
   "cell_type": "code",
   "execution_count": 38,
   "id": "34cb4ec9",
   "metadata": {},
   "outputs": [],
   "source": [
    "day6txt = open('day6.txt', 'r')\n",
    "transmission = day6txt.readlines()"
   ]
  },
  {
   "cell_type": "code",
   "execution_count": 39,
   "id": "9c911cdf",
   "metadata": {},
   "outputs": [],
   "source": [
    "text = transmission[0]\n",
    "text = text[:-1]"
   ]
  },
  {
   "cell_type": "code",
   "execution_count": 40,
   "id": "a739d9b3",
   "metadata": {},
   "outputs": [
    {
     "name": "stdout",
     "output_type": "stream",
     "text": [
      "Start marker at: \n",
      "1287\n"
     ]
    }
   ],
   "source": [
    "for i in range(0,len(text) - 3):\n",
    "    curr4 = set(text[i:i+4])\n",
    "    if (len(curr4) == 4):\n",
    "        print('Start marker at: ')\n",
    "        print(i+4)\n",
    "        break"
   ]
  },
  {
   "cell_type": "code",
   "execution_count": 41,
   "id": "f55ced72",
   "metadata": {},
   "outputs": [
    {
     "name": "stdout",
     "output_type": "stream",
     "text": [
      "Message marker at: \n",
      "3716\n"
     ]
    }
   ],
   "source": [
    "for i in range(0,len(text) - 13):\n",
    "    curr4 = set(text[i:i+14])\n",
    "    if (len(curr4) == 14):\n",
    "        print('Message marker at: ')\n",
    "        print(i+14)\n",
    "        break"
   ]
  },
  {
   "cell_type": "markdown",
   "id": "556d0496",
   "metadata": {},
   "source": [
    "Day 7"
   ]
  },
  {
   "cell_type": "code",
   "execution_count": 1,
   "id": "d49c6c8d",
   "metadata": {},
   "outputs": [],
   "source": [
    "day7txt = open('day7.txt', 'r')\n",
    "commands = day7txt.readlines()"
   ]
  },
  {
   "cell_type": "code",
   "execution_count": 10,
   "id": "cf069391",
   "metadata": {},
   "outputs": [],
   "source": [
    "ex = '''$ cd /\n",
    "$ ls\n",
    "dir a\n",
    "14848514 b.txt\n",
    "8504156 c.dat\n",
    "dir d\n",
    "$ cd a\n",
    "$ ls\n",
    "dir e\n",
    "29116 f\n",
    "2557 g\n",
    "62596 h.lst\n",
    "$ cd e\n",
    "$ ls\n",
    "584 i\n",
    "$ cd ..\n",
    "$ cd ..\n",
    "$ cd d\n",
    "$ ls\n",
    "4060174 j\n",
    "8033020 d.log\n",
    "5626152 d.ext\n",
    "7214296 k'''"
   ]
  },
  {
   "cell_type": "code",
   "execution_count": 52,
   "id": "b71ea782",
   "metadata": {},
   "outputs": [],
   "source": [
    "ex_lines = ex.split('\\n')"
   ]
  },
  {
   "cell_type": "code",
   "execution_count": 53,
   "id": "f599cd0c",
   "metadata": {},
   "outputs": [],
   "source": [
    "dirs = {}\n",
    "dir_stack = []\n",
    "curr_dir = ''\n",
    "\n",
    "for line in ex_lines:\n",
    "    #ls means skip\n",
    "    #cd .. means pop stack and calculate total\n",
    "    #cd newdir means add directory to the stack and make it the cur dir\n",
    "    #dir/filesize means add to array for the directory\n",
    "    \n",
    "    # commands starting with $\n",
    "    if line[0] == '$':\n",
    "        if line[2] == 'l':\n",
    "            continue;\n",
    "        else:\n",
    "            dir_move = line.split()[2]\n",
    "            # cd ..\n",
    "            if dir_move == '..':\n",
    "                # calculate total\n",
    "                total = 0\n",
    "                directory = dir_stack.pop()\n",
    "                for file in dirs[directory]:\n",
    "                    # Check if filesize, if not get from dirs\n",
    "                    if file.isnumeric():\n",
    "                        total = total + int(file)\n",
    "                    else:\n",
    "                        total = total + dirs[file]\n",
    "                dirs[directory] = total\n",
    "            # cd newdir\n",
    "            else:\n",
    "                dirs[dir_move] = []\n",
    "                dir_stack.append(dir_move)\n",
    "                curr_dir = dir_move\n",
    "    else:\n",
    "        #handle dir\n",
    "        if line[0:3] == 'dir':\n",
    "            dirs[curr_dir].append(line.split()[1])\n",
    "        else:\n",
    "            dirs[curr_dir].append(line.split()[0])\n",
    "# Clear the stack\n",
    "while (len(dir_stack) > 0):\n",
    "    directory = dir_stack[-1]\n",
    "    total = 0\n",
    "    for file in dirs[directory]:\n",
    "        # Check if filesize, if not get from dirs\n",
    "        if file.isnumeric():\n",
    "            total = total + int(file)\n",
    "        else:\n",
    "            total = total + dirs[file]\n",
    "        dirs[directory] = total\n",
    "    dir_stack.pop()"
   ]
  },
  {
   "cell_type": "code",
   "execution_count": 54,
   "id": "f0f367de",
   "metadata": {},
   "outputs": [
    {
     "data": {
      "text/plain": [
       "{'/': 48381165, 'a': 94853, 'e': 584, 'd': 24933642}"
      ]
     },
     "execution_count": 54,
     "metadata": {},
     "output_type": "execute_result"
    }
   ],
   "source": [
    "dirs"
   ]
  },
  {
   "cell_type": "code",
   "execution_count": 55,
   "id": "f64b4144",
   "metadata": {},
   "outputs": [],
   "source": [
    "dirs = {}\n",
    "dir_stack = []\n",
    "curr_dir = ''\n",
    "curr_dir_name = ''\n",
    "\n",
    "for line in commands:\n",
    "    #ls means skip\n",
    "    #cd .. means pop stack and calculate total\n",
    "    #cd newdir means add directory to the stack and make it the cur dir\n",
    "    #dir/filesize means add to array for the directory\n",
    "    \n",
    "    # commands starting with $\n",
    "    if line[0] == '$':\n",
    "        if line[2] == 'l':\n",
    "            continue;\n",
    "        else:\n",
    "            dir_move = line.split()[2]\n",
    "            # cd ..\n",
    "            if dir_move == '..':\n",
    "                # calculate total\n",
    "                total = 0\n",
    "                directory = dir_stack.pop()\n",
    "                for file in dirs[directory]:\n",
    "                    # Check if filesize, if not get from dirs\n",
    "                    if file.isnumeric():\n",
    "                        total = total + int(file)\n",
    "                    else:\n",
    "                        total = total + dirs[file]\n",
    "                dirs[directory] = total\n",
    "                indexOfCurDir = curr_dir.rfind('/')\n",
    "                curr_dir = curr_dir[0:indexOfCurDir]\n",
    "            # cd newdir\n",
    "            else:\n",
    "                curr_dir_name = \"/\" + dir_move\n",
    "                curr_dir = curr_dir + curr_dir_name\n",
    "                dirs[curr_dir] = []\n",
    "                dir_stack.append(curr_dir)\n",
    "    else:\n",
    "        #handle dir\n",
    "        if line[0:3] == 'dir':\n",
    "            dirs[curr_dir].append(curr_dir + \"/\" + line.split()[1])\n",
    "        else:\n",
    "            dirs[curr_dir].append(line.split()[0])\n",
    "# Clear the stack\n",
    "while (len(dir_stack) > 0):\n",
    "    directory = dir_stack[-1]\n",
    "    total = 0\n",
    "    for file in dirs[directory]:\n",
    "        # Check if filesize, if not get from dirs\n",
    "        if file.isnumeric():\n",
    "            total = total + int(file)\n",
    "        else:\n",
    "            total = total + dirs[file]\n",
    "        dirs[directory] = total\n",
    "    dir_stack.pop()"
   ]
  },
  {
   "cell_type": "code",
   "execution_count": 60,
   "id": "9a761a58",
   "metadata": {},
   "outputs": [
    {
     "name": "stdout",
     "output_type": "stream",
     "text": [
      "Total size of directories with less than 100_000: 1513699\n"
     ]
    }
   ],
   "source": [
    "small_tot = 0\n",
    "for directory_path in dirs:\n",
    "    if dirs[directory_path] < 100_000:\n",
    "        small_tot = small_tot + dirs[directory_path]\n",
    "print(\"Total size of directories with less than 100_000: \" + str(small_tot))"
   ]
  },
  {
   "cell_type": "code",
   "execution_count": 48,
   "id": "0981c0c8",
   "metadata": {},
   "outputs": [],
   "source": [
    "total_disk_space = 70_000_000\n",
    "used_disk_space = dirs['//']\n",
    "avail_disk_space = total_disk_space - used_disk_space\n",
    "disk_space_req = 30_000_000\n",
    "disk_space_needed = disk_space_req - avail_disk_space"
   ]
  },
  {
   "cell_type": "code",
   "execution_count": 61,
   "id": "b231a142",
   "metadata": {},
   "outputs": [
    {
     "name": "stdout",
     "output_type": "stream",
     "text": [
      "Size of smallest directory to delete for the update: 7991939\n"
     ]
    }
   ],
   "source": [
    "smallest_dir = total_disk_space\n",
    "for directory_path in dirs:\n",
    "    if dirs[directory_path] > disk_space_needed:\n",
    "        if dirs[directory_path] < smallest_dir:\n",
    "            smallest_dir = dirs[directory_path]\n",
    "print(\"Size of smallest directory to delete for the update: \" + str(smallest_dir))"
   ]
  },
  {
   "cell_type": "markdown",
   "id": "74ff06e9",
   "metadata": {},
   "source": [
    "Day 8"
   ]
  },
  {
   "cell_type": "code",
   "execution_count": 2,
   "id": "e83bb310",
   "metadata": {},
   "outputs": [],
   "source": [
    "day8 = open('day8.txt', 'r')\n",
    "treeLines = day8.readlines()"
   ]
  },
  {
   "cell_type": "code",
   "execution_count": 4,
   "id": "73c976cc",
   "metadata": {},
   "outputs": [],
   "source": [
    "width = len(treeLines[0]) - 1 # How many trees do we have across\n",
    "height = len(treeLines) # How many trees do we have across the other way"
   ]
  },
  {
   "cell_type": "code",
   "execution_count": 11,
   "id": "24e2d3a1",
   "metadata": {},
   "outputs": [],
   "source": [
    "visible = {}\n",
    "\n",
    "# I'm doing this the extremely inefficient way because I'm too lazy to think of the actual way to do this\n",
    "for i in range(0,height):\n",
    "    for j in range(0,width):\n",
    "        l_vis = True\n",
    "        r_vis = True\n",
    "        b_vis = True\n",
    "        u_vis = True\n",
    "        tree_num = i*width + j\n",
    "        tree_height = treeLines[i][j]\n",
    "        # Check if border\n",
    "        if (i == 0 or i == width-1 or j==0 or j==width - 1):\n",
    "            visible[tree_num] = 1 # 1 for visible, 0 for not\n",
    "            continue\n",
    "        # Check left\n",
    "        for k in range(0,j):\n",
    "            if treeLines[i][k] >= tree_height:\n",
    "                l_vis = False\n",
    "                break\n",
    "        # Check right\n",
    "        for k in range(j+1,width):\n",
    "            if treeLines[i][k] >= tree_height:\n",
    "                r_vis = False\n",
    "                break\n",
    "        # Check up\n",
    "        for k in range(0,i):\n",
    "            if treeLines[k][j] >= tree_height:\n",
    "                u_vis = False\n",
    "                break\n",
    "        # Check down\n",
    "        for k in range(i+1,height):\n",
    "            if treeLines[k][j] >= tree_height:\n",
    "                b_vis = False\n",
    "                break\n",
    "        # If any direction is visible, set tree as visible\n",
    "        if (l_vis or r_vis or u_vis or b_vis):\n",
    "            visible[tree_num] = 1\n",
    "        else:\n",
    "            visible[tree_num] = 0"
   ]
  },
  {
   "cell_type": "code",
   "execution_count": 14,
   "id": "7fd29444",
   "metadata": {},
   "outputs": [
    {
     "name": "stdout",
     "output_type": "stream",
     "text": [
      "Total visible trees: 1845\n"
     ]
    }
   ],
   "source": [
    "print(\"Total visible trees: \" + str(sum(visible.values())))"
   ]
  },
  {
   "cell_type": "markdown",
   "id": "5a6d5342",
   "metadata": {},
   "source": [
    "Part 2"
   ]
  },
  {
   "cell_type": "code",
   "execution_count": 18,
   "id": "ef2c5b54",
   "metadata": {},
   "outputs": [],
   "source": [
    "scenicScore = {}\n",
    "\n",
    "# I'm doing this the extremely inefficient way because I'm too lazy to think of the actual way to do this\n",
    "for i in range(0,height):\n",
    "    for j in range(0,width):\n",
    "        l_vis = 1\n",
    "        r_vis = 1\n",
    "        b_vis = 1\n",
    "        u_vis = 1\n",
    "        tree_num = i*width + j\n",
    "        tree_height = treeLines[i][j]\n",
    "        # Check if border\n",
    "        if (i == 0 or i == width-1 or j==0 or j==width - 1):\n",
    "            scenicScore[tree_num] = 0 \n",
    "            continue\n",
    "        # Check left\n",
    "        for k in range(0,j-1):\n",
    "            if treeLines[i][j-k-1] >= tree_height:\n",
    "                break\n",
    "            else:\n",
    "                l_vis = l_vis + 1\n",
    "        # Check right\n",
    "        for k in range(j+1,width-1):\n",
    "            if treeLines[i][k] >= tree_height:\n",
    "                break\n",
    "            else:\n",
    "                r_vis = r_vis + 1\n",
    "        # Check up\n",
    "        for k in range(0,i-1):\n",
    "            if treeLines[i - k - 1][j] >= tree_height:\n",
    "                break\n",
    "            else:\n",
    "                u_vis = u_vis + 1\n",
    "        # Check down\n",
    "        for k in range(i+1,height-1):\n",
    "            if treeLines[k][j] >= tree_height:\n",
    "                break\n",
    "            else:\n",
    "                b_vis = b_vis + 1\n",
    "        # If any direction is visible, set tree as visible\n",
    "        scenicScore[tree_num] = l_vis*r_vis*u_vis*b_vis"
   ]
  },
  {
   "cell_type": "code",
   "execution_count": 19,
   "id": "d4eb4087",
   "metadata": {},
   "outputs": [
    {
     "name": "stdout",
     "output_type": "stream",
     "text": [
      "The highest scenic score is : 230112\n"
     ]
    }
   ],
   "source": [
    "print(\"The highest scenic score is : \" + str(max(scenicScore.values())))"
   ]
  }
 ],
 "metadata": {
  "kernelspec": {
   "display_name": "Python 3 (ipykernel)",
   "language": "python",
   "name": "python3"
  },
  "language_info": {
   "codemirror_mode": {
    "name": "ipython",
    "version": 3
   },
   "file_extension": ".py",
   "mimetype": "text/x-python",
   "name": "python",
   "nbconvert_exporter": "python",
   "pygments_lexer": "ipython3",
   "version": "3.9.12"
  }
 },
 "nbformat": 4,
 "nbformat_minor": 5
}
