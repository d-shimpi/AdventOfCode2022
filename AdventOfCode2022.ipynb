{
 "cells": [
  {
   "cell_type": "markdown",
   "id": "06d836ac",
   "metadata": {},
   "source": [
    "Day 1 Challenge 1"
   ]
  },
  {
   "cell_type": "code",
   "execution_count": 2,
   "id": "f4bed5bd",
   "metadata": {},
   "outputs": [],
   "source": [
    "calorieFile = open('adventOfCodeDay1Input1.txt', 'r')\n",
    "calorieLines = calorieFile.readlines()"
   ]
  },
  {
   "cell_type": "code",
   "execution_count": 5,
   "id": "89e44d84",
   "metadata": {},
   "outputs": [],
   "source": [
    "maxCal = 0\n",
    "currentCal = 0\n",
    "elfCals = []\n",
    "for line in calorieLines:\n",
    "    if (line == '\\n'):\n",
    "        elfCals.append(currentCal)\n",
    "        currentCal = 0\n",
    "    else:\n",
    "        cals = int(line[0:-1])\n",
    "        currentCal = currentCal + cals\n",
    "elfCals.sort()"
   ]
  },
  {
   "cell_type": "code",
   "execution_count": 10,
   "id": "0a2cbe1b",
   "metadata": {},
   "outputs": [
    {
     "name": "stdout",
     "output_type": "stream",
     "text": [
      "Max Elf Calories:\n",
      "[67016]\n",
      "Sum of Top 3 Elf Calories:\n",
      "200116\n"
     ]
    }
   ],
   "source": [
    "print(\"Max Elf Calories:\")\n",
    "print(elfCals[-1:])\n",
    "print(\"Sum of Top 3 Elf Calories:\")\n",
    "print(sum(elfCals[-3:]))"
   ]
  }
 ],
 "metadata": {
  "kernelspec": {
   "display_name": "Python 3 (ipykernel)",
   "language": "python",
   "name": "python3"
  },
  "language_info": {
   "codemirror_mode": {
    "name": "ipython",
    "version": 3
   },
   "file_extension": ".py",
   "mimetype": "text/x-python",
   "name": "python",
   "nbconvert_exporter": "python",
   "pygments_lexer": "ipython3",
   "version": "3.9.12"
  }
 },
 "nbformat": 4,
 "nbformat_minor": 5
}
