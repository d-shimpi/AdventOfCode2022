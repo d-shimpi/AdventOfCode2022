{
 "cells": [
  {
   "cell_type": "markdown",
   "id": "06d836ac",
   "metadata": {},
   "source": [
    "Day 1"
   ]
  },
  {
   "cell_type": "code",
   "execution_count": 14,
   "id": "f4bed5bd",
   "metadata": {},
   "outputs": [],
   "source": [
    "calorieFile = open('adventOfCodeDay1Input1.txt', 'r')\n",
    "calorieLines = calorieFile.readlines()"
   ]
  },
  {
   "cell_type": "code",
   "execution_count": 15,
   "id": "89e44d84",
   "metadata": {},
   "outputs": [],
   "source": [
    "maxCal = 0\n",
    "currentCal = 0\n",
    "elfCals = []\n",
    "for line in calorieLines:\n",
    "    if (line == '\\n'):\n",
    "        elfCals.append(currentCal)\n",
    "        currentCal = 0\n",
    "    else:\n",
    "        cals = int(line[0:-1])\n",
    "        currentCal = currentCal + cals\n",
    "elfCals.sort()"
   ]
  },
  {
   "cell_type": "code",
   "execution_count": 16,
   "id": "0a2cbe1b",
   "metadata": {},
   "outputs": [
    {
     "name": "stdout",
     "output_type": "stream",
     "text": [
      "Max Elf Calories:\n",
      "[67016]\n",
      "Sum of Top 3 Elf Calories:\n",
      "200116\n"
     ]
    }
   ],
   "source": [
    "print(\"Max Elf Calories:\")\n",
    "print(elfCals[-1:])\n",
    "print(\"Sum of Top 3 Elf Calories:\")\n",
    "print(sum(elfCals[-3:]))"
   ]
  },
  {
   "cell_type": "markdown",
   "id": "13c13a0a",
   "metadata": {},
   "source": [
    "Day 2"
   ]
  },
  {
   "cell_type": "code",
   "execution_count": 17,
   "id": "66bc7c0c",
   "metadata": {},
   "outputs": [],
   "source": [
    "rps = open('day2ch1.txt', 'r')\n",
    "rpsLines = rps.readlines()"
   ]
  },
  {
   "cell_type": "code",
   "execution_count": 18,
   "id": "a84ed6a8",
   "metadata": {},
   "outputs": [],
   "source": [
    "# loop through each match and add up the points\n",
    "totalPoints = 0\n",
    "for match in rpsLines:\n",
    "    # Isolate your hand and your opponents\n",
    "    oppHand = match[0]\n",
    "    yourHand = match[2]\n",
    "    # Get points for whatever you played\n",
    "    basePoints = ord(yourHand) - ord('W')\n",
    "    # Get points for winning or tying\n",
    "    # Handle wins\n",
    "    diffHand = ord(yourHand) - ord(oppHand)\n",
    "    if (diffHand == 24 or diffHand == 21):\n",
    "        addPoints = 6\n",
    "    # Handle ties\n",
    "    elif (diffHand == 23):\n",
    "        addPoints = 3\n",
    "    # Handle loss\n",
    "    else:\n",
    "        addPoints = 0\n",
    "    totalPoints = totalPoints + basePoints + addPoints"
   ]
  },
  {
   "cell_type": "code",
   "execution_count": 19,
   "id": "d5a301a3",
   "metadata": {},
   "outputs": [
    {
     "name": "stdout",
     "output_type": "stream",
     "text": [
      "Total points: \n",
      "15337\n"
     ]
    }
   ],
   "source": [
    "print(\"Total points: \")\n",
    "print(totalPoints)"
   ]
  },
  {
   "cell_type": "markdown",
   "id": "954139e8",
   "metadata": {},
   "source": [
    "Day 2 Part 2"
   ]
  },
  {
   "cell_type": "code",
   "execution_count": 20,
   "id": "75700157",
   "metadata": {},
   "outputs": [],
   "source": [
    "# loop through each match and add up the points\n",
    "totalPoints = 0\n",
    "lossHandPoints = [3,1,2]\n",
    "winHandPoints = [2,3,1]\n",
    "\n",
    "for match in rpsLines:\n",
    "    # Isolate your hand and your opponents\n",
    "    oppHand = match[0]\n",
    "    winCon = match[2]\n",
    "    # Get points for winning, tying, or lossing\n",
    "    winPoints = (ord(winCon) - ord('X'))*3\n",
    "    # Get points based on your hand\n",
    "    # Handle loss\n",
    "    if (winPoints == 0):\n",
    "        handPoints = lossHandPoints[ord(oppHand)-ord('A')]\n",
    "    # Handle tie\n",
    "    elif (winPoints == 3):\n",
    "        handPoints = ord(oppHand) - ord('A') + 1\n",
    "    # Handle win\n",
    "    else:\n",
    "        handPoints = winHandPoints[ord(oppHand) - ord('A')]\n",
    "    \n",
    "    totalPoints = totalPoints + winPoints + handPoints\n",
    "    "
   ]
  },
  {
   "cell_type": "code",
   "execution_count": 21,
   "id": "cebf30b8",
   "metadata": {},
   "outputs": [
    {
     "name": "stdout",
     "output_type": "stream",
     "text": [
      "Total points: \n",
      "11696\n"
     ]
    }
   ],
   "source": [
    "print(\"Total points: \")\n",
    "print(totalPoints)"
   ]
  },
  {
   "cell_type": "markdown",
   "id": "74176c87",
   "metadata": {},
   "source": [
    "Day 3"
   ]
  },
  {
   "cell_type": "code",
   "execution_count": 22,
   "id": "54778625",
   "metadata": {},
   "outputs": [],
   "source": [
    "sacks = open('day3ch1.txt', 'r')\n",
    "sackLines = sacks.readlines()"
   ]
  },
  {
   "cell_type": "code",
   "execution_count": 23,
   "id": "9998c118",
   "metadata": {},
   "outputs": [
    {
     "name": "stdout",
     "output_type": "stream",
     "text": [
      "The Sum of the Priorities is:\n",
      "7793\n"
     ]
    }
   ],
   "source": [
    "runningPrioSum = 0\n",
    "for sack in sackLines:\n",
    "    sack = sack[0:-1] #Get rid of new line character\n",
    "    comp1 = set(sack[0:int(len(sack)/2)])\n",
    "    comp2 = set(sack[int(len(sack)/2):])\n",
    "    commonPrio = str(comp1.intersection(comp2))[2]\n",
    "    if (ord(commonPrio) < 97):\n",
    "        runningPrioSum = runningPrioSum + ord(commonPrio) - 38\n",
    "    else:\n",
    "        runningPrioSum = runningPrioSum + ord(commonPrio) - 96\n",
    "print(\"The Sum of the Priorities is:\")\n",
    "print(runningPrioSum)"
   ]
  },
  {
   "cell_type": "code",
   "execution_count": 24,
   "id": "922bc8fe",
   "metadata": {},
   "outputs": [],
   "source": [
    "def chunks(lst, n):\n",
    "    \"\"\"Yield successive n-sized chunks from lst.\"\"\"\n",
    "    for i in range(0, len(lst), n):\n",
    "        yield lst[i:i + n]"
   ]
  },
  {
   "cell_type": "code",
   "execution_count": 25,
   "id": "8c3bfd53",
   "metadata": {},
   "outputs": [],
   "source": [
    "elfGroupSacks = chunks(sackLines,3)"
   ]
  },
  {
   "cell_type": "code",
   "execution_count": 26,
   "id": "7a09eb27",
   "metadata": {},
   "outputs": [
    {
     "name": "stdout",
     "output_type": "stream",
     "text": [
      "The Sum of the Priorities is:\n",
      "2499\n"
     ]
    }
   ],
   "source": [
    "runningPrioSum = 0\n",
    "for group in elfGroupSacks:\n",
    "    sack1 = set(group[0][:-1])\n",
    "    sack2 = set(group[1][:-1])\n",
    "    sack3 = set(group[2][:-1])\n",
    "    groupPrio = str(sack1.intersection(sack2.intersection(sack3)))[2]\n",
    "    if (ord(groupPrio) < 97):\n",
    "        runningPrioSum = runningPrioSum + ord(groupPrio) - 38\n",
    "    else:\n",
    "        runningPrioSum = runningPrioSum + ord(groupPrio) - 96\n",
    "print(\"The Sum of the Priorities is:\")\n",
    "print(runningPrioSum)\n"
   ]
  },
  {
   "cell_type": "markdown",
   "id": "51d08227",
   "metadata": {},
   "source": [
    "Day 4"
   ]
  },
  {
   "cell_type": "code",
   "execution_count": 27,
   "id": "5386422e",
   "metadata": {},
   "outputs": [],
   "source": [
    "tasks = open('day4ch1.txt', 'r')\n",
    "taskLines = tasks.readlines()"
   ]
  },
  {
   "cell_type": "code",
   "execution_count": 28,
   "id": "4c440fd4",
   "metadata": {},
   "outputs": [
    {
     "name": "stdout",
     "output_type": "stream",
     "text": [
      "Assignments where one range fully contains the other:\n",
      "580\n"
     ]
    }
   ],
   "source": [
    "containedAssigns = 0\n",
    "for line in taskLines:\n",
    "    line = line[:-1] #Get rid of new line character\n",
    "    assignments = line.split(',')\n",
    "    assignment1 = assignments[0]\n",
    "    assignment2 = assignments[1]\n",
    "    range1 = assignment1.split('-')\n",
    "    range2 = assignment2.split('-')\n",
    "    set1 = set(range(int(range1[0]),int(range1[1])+1))\n",
    "    set2 = set(range(int(range2[0]),int(range2[1])+1))\n",
    "    intersec = set1.intersection(set2)\n",
    "    if (len(intersec) == len(set1) or len(intersec) == len(set2)):\n",
    "        containedAssigns = containedAssigns + 1\n",
    "print(\"Assignments where one range fully contains the other:\")\n",
    "print(containedAssigns)"
   ]
  },
  {
   "cell_type": "code",
   "execution_count": 29,
   "id": "682dbd99",
   "metadata": {},
   "outputs": [
    {
     "name": "stdout",
     "output_type": "stream",
     "text": [
      "Assignments where one range overlaps the other:\n",
      "895\n"
     ]
    }
   ],
   "source": [
    "overlapAssigns = 0\n",
    "for line in taskLines:\n",
    "    line = line[:-1] #Get rid of new line character\n",
    "    assignments = line.split(',')\n",
    "    assignment1 = assignments[0]\n",
    "    assignment2 = assignments[1]\n",
    "    range1 = assignment1.split('-')\n",
    "    range2 = assignment2.split('-')\n",
    "    set1 = set(range(int(range1[0]),int(range1[1])+1))\n",
    "    set2 = set(range(int(range2[0]),int(range2[1])+1))\n",
    "    intersec = set1.intersection(set2)\n",
    "    if (len(intersec) > 0):\n",
    "        overlapAssigns = overlapAssigns + 1\n",
    "print(\"Assignments where one range overlaps the other:\")\n",
    "print(overlapAssigns)"
   ]
  },
  {
   "cell_type": "markdown",
   "id": "d08ee3ed",
   "metadata": {},
   "source": [
    "Day 5"
   ]
  },
  {
   "cell_type": "code",
   "execution_count": 30,
   "id": "b00ef305",
   "metadata": {},
   "outputs": [],
   "source": [
    "day5txt = open('day5.txt', 'r')\n",
    "crateLines = day5txt.readlines()"
   ]
  },
  {
   "cell_type": "code",
   "execution_count": 31,
   "id": "ead447e1",
   "metadata": {},
   "outputs": [
    {
     "name": "stdout",
     "output_type": "stream",
     "text": [
      "[['D', 'T', 'W', 'F', 'J', 'S', 'H', 'N'], ['H', 'R', 'P', 'Q', 'T', 'N', 'B', 'G'], ['L', 'Q', 'V'], ['N', 'B', 'S', 'W', 'R', 'Q'], ['N', 'D', 'F', 'T', 'V', 'M', 'B'], ['M', 'D', 'B', 'V', 'H', 'T', 'R'], ['D', 'B', 'Q', 'J'], ['D', 'N', 'J', 'V', 'R', 'Z', 'H', 'Q'], ['B', 'N', 'H', 'M', 'S']]\n"
     ]
    }
   ],
   "source": [
    "crates = crateLines[0:8]\n",
    "#Initialize stacks\n",
    "crateStacks = [[],[],[],[],[],[],[],[],[]]\n",
    "\n",
    "for line in reversed(crates):\n",
    "    line = line[:-1] #Get rid of new line\n",
    "    for i in range(0,9):\n",
    "        char = line[i*4+1]\n",
    "        if (char != ' '):\n",
    "            crateStacks[i].append(line[i*4+1])\n",
    "print(crateStacks)"
   ]
  },
  {
   "cell_type": "code",
   "execution_count": 32,
   "id": "14edecf0",
   "metadata": {},
   "outputs": [],
   "source": [
    "movements = crateLines[10:]"
   ]
  },
  {
   "cell_type": "code",
   "execution_count": 33,
   "id": "01f44399",
   "metadata": {},
   "outputs": [],
   "source": [
    "for step in movements:\n",
    "    step = step[:-1]\n",
    "    comps = step.split(' ')\n",
    "    numToMove = int(comps[1])\n",
    "    giver = int(comps[3])\n",
    "    receiver = int(comps[5])\n",
    "    for i in range(0, numToMove):\n",
    "        crateMoved = crateStacks[giver-1].pop()\n",
    "        crateStacks[receiver-1].append(crateMoved)"
   ]
  },
  {
   "cell_type": "code",
   "execution_count": 34,
   "id": "8320ebce",
   "metadata": {},
   "outputs": [
    {
     "name": "stdout",
     "output_type": "stream",
     "text": [
      "Crates on top:\n",
      "GRTSWNJHH"
     ]
    }
   ],
   "source": [
    "print(\"Crates on top:\")\n",
    "for crateStack in crateStacks:\n",
    "    print(crateStack[-1],end = \"\")"
   ]
  },
  {
   "cell_type": "code",
   "execution_count": 35,
   "id": "a7c966b7",
   "metadata": {},
   "outputs": [],
   "source": [
    "crates = crateLines[0:8]\n",
    "#Initialize stacks\n",
    "initialCrateStacks = [[],[],[],[],[],[],[],[],[]]\n",
    "\n",
    "for line in reversed(crates):\n",
    "    line = line[:-1] #Get rid of new line\n",
    "    for i in range(0,9):\n",
    "        char = line[i*4+1]\n",
    "        if (char != ' '):\n",
    "            initialCrateStacks[i].append(line[i*4+1])"
   ]
  },
  {
   "cell_type": "code",
   "execution_count": 36,
   "id": "a96dbc32",
   "metadata": {},
   "outputs": [],
   "source": [
    "for step in movements:\n",
    "    step = step[:-1]\n",
    "    comps = step.split(' ')\n",
    "    numToMove = int(comps[1])\n",
    "    giver = int(comps[3])\n",
    "    receiver = int(comps[5])\n",
    "    movingCrates = crateStacks[giver-1][-numToMove:]\n",
    "    crateStacks[receiver-1].extend(crateStacks[giver-1][-numToMove:])\n",
    "    crateStacks[giver-1] = crateStacks[giver-1][:-numToMove]"
   ]
  },
  {
   "cell_type": "code",
   "execution_count": 37,
   "id": "9c5ec27e",
   "metadata": {},
   "outputs": [
    {
     "name": "stdout",
     "output_type": "stream",
     "text": [
      "Crates on top:\n",
      "VTNRGBTRM"
     ]
    }
   ],
   "source": [
    "print(\"Crates on top:\")\n",
    "for crateStack in crateStacks:\n",
    "    print(crateStack[-1],end = \"\")"
   ]
  },
  {
   "cell_type": "markdown",
   "id": "24af270f",
   "metadata": {},
   "source": [
    "Day 6"
   ]
  },
  {
   "cell_type": "code",
   "execution_count": 38,
   "id": "34cb4ec9",
   "metadata": {},
   "outputs": [],
   "source": [
    "day6txt = open('day6.txt', 'r')\n",
    "transmission = day6txt.readlines()"
   ]
  },
  {
   "cell_type": "code",
   "execution_count": 39,
   "id": "9c911cdf",
   "metadata": {},
   "outputs": [],
   "source": [
    "text = transmission[0]\n",
    "text = text[:-1]"
   ]
  },
  {
   "cell_type": "code",
   "execution_count": 40,
   "id": "a739d9b3",
   "metadata": {},
   "outputs": [
    {
     "name": "stdout",
     "output_type": "stream",
     "text": [
      "Start marker at: \n",
      "1287\n"
     ]
    }
   ],
   "source": [
    "for i in range(0,len(text) - 3):\n",
    "    curr4 = set(text[i:i+4])\n",
    "    if (len(curr4) == 4):\n",
    "        print('Start marker at: ')\n",
    "        print(i+4)\n",
    "        break"
   ]
  },
  {
   "cell_type": "code",
   "execution_count": 41,
   "id": "f55ced72",
   "metadata": {},
   "outputs": [
    {
     "name": "stdout",
     "output_type": "stream",
     "text": [
      "Message marker at: \n",
      "3716\n"
     ]
    }
   ],
   "source": [
    "for i in range(0,len(text) - 13):\n",
    "    curr4 = set(text[i:i+14])\n",
    "    if (len(curr4) == 14):\n",
    "        print('Message marker at: ')\n",
    "        print(i+14)\n",
    "        break"
   ]
  }
 ],
 "metadata": {
  "kernelspec": {
   "display_name": "Python 3 (ipykernel)",
   "language": "python",
   "name": "python3"
  },
  "language_info": {
   "codemirror_mode": {
    "name": "ipython",
    "version": 3
   },
   "file_extension": ".py",
   "mimetype": "text/x-python",
   "name": "python",
   "nbconvert_exporter": "python",
   "pygments_lexer": "ipython3",
   "version": "3.9.12"
  }
 },
 "nbformat": 4,
 "nbformat_minor": 5
}
